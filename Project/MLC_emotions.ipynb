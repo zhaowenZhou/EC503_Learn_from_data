{
 "cells": [
  {
   "cell_type": "code",
   "execution_count": 1,
   "id": "50e61209",
   "metadata": {},
   "outputs": [],
   "source": [
    "import pandas as pd\n",
    "import numpy as np\n",
    "import random\n",
    "\n",
    "from sklearn.model_selection import train_test_split\n",
    "from sklearn import metrics\n",
    "from sklearn.metrics import hamming_loss, zero_one_loss, f1_score\n",
    "from skmultilearn.problem_transform import BinaryRelevance, LabelPowerset\n",
    "\n",
    "\n",
    "from sklearn.neighbors import KNeighborsClassifier as kNN\n",
    "\n",
    "import time\n",
    "\n",
    "import matplotlib \n",
    "import matplotlib.pyplot as plt"
   ]
  },
  {
   "cell_type": "code",
   "execution_count": 2,
   "id": "70b7d880",
   "metadata": {},
   "outputs": [
    {
     "data": {
      "text/html": [
       "<div>\n",
       "<style scoped>\n",
       "    .dataframe tbody tr th:only-of-type {\n",
       "        vertical-align: middle;\n",
       "    }\n",
       "\n",
       "    .dataframe tbody tr th {\n",
       "        vertical-align: top;\n",
       "    }\n",
       "\n",
       "    .dataframe thead th {\n",
       "        text-align: right;\n",
       "    }\n",
       "</style>\n",
       "<table border=\"1\" class=\"dataframe\">\n",
       "  <thead>\n",
       "    <tr style=\"text-align: right;\">\n",
       "      <th></th>\n",
       "      <th>Mean_Acc1298_Mean_Mem40_Centroid</th>\n",
       "      <th>Mean_Acc1298_Mean_Mem40_Rolloff</th>\n",
       "      <th>Mean_Acc1298_Mean_Mem40_Flux</th>\n",
       "      <th>Mean_Acc1298_Mean_Mem40_MFCC_0</th>\n",
       "      <th>Mean_Acc1298_Mean_Mem40_MFCC_1</th>\n",
       "      <th>Mean_Acc1298_Mean_Mem40_MFCC_2</th>\n",
       "      <th>Mean_Acc1298_Mean_Mem40_MFCC_3</th>\n",
       "      <th>Mean_Acc1298_Mean_Mem40_MFCC_4</th>\n",
       "      <th>Mean_Acc1298_Mean_Mem40_MFCC_5</th>\n",
       "      <th>Mean_Acc1298_Mean_Mem40_MFCC_6</th>\n",
       "      <th>...</th>\n",
       "      <th>BH_HighLowRatio</th>\n",
       "      <th>BHSUM1</th>\n",
       "      <th>BHSUM2</th>\n",
       "      <th>BHSUM3</th>\n",
       "      <th>amazed-suprised</th>\n",
       "      <th>happy-pleased</th>\n",
       "      <th>relaxing-calm</th>\n",
       "      <th>quiet-still</th>\n",
       "      <th>sad-lonely</th>\n",
       "      <th>angry-aggresive</th>\n",
       "    </tr>\n",
       "  </thead>\n",
       "  <tbody>\n",
       "    <tr>\n",
       "      <th>0</th>\n",
       "      <td>0.034741</td>\n",
       "      <td>0.089665</td>\n",
       "      <td>0.091225</td>\n",
       "      <td>-73.302422</td>\n",
       "      <td>6.215179</td>\n",
       "      <td>0.615074</td>\n",
       "      <td>2.037160</td>\n",
       "      <td>0.804065</td>\n",
       "      <td>1.301409</td>\n",
       "      <td>0.558576</td>\n",
       "      <td>...</td>\n",
       "      <td>2</td>\n",
       "      <td>0.245457</td>\n",
       "      <td>0.105065</td>\n",
       "      <td>0.405399</td>\n",
       "      <td>0</td>\n",
       "      <td>1</td>\n",
       "      <td>1</td>\n",
       "      <td>0</td>\n",
       "      <td>0</td>\n",
       "      <td>0</td>\n",
       "    </tr>\n",
       "    <tr>\n",
       "      <th>1</th>\n",
       "      <td>0.081374</td>\n",
       "      <td>0.272747</td>\n",
       "      <td>0.085733</td>\n",
       "      <td>-62.584437</td>\n",
       "      <td>3.183163</td>\n",
       "      <td>-0.218145</td>\n",
       "      <td>0.163038</td>\n",
       "      <td>0.620251</td>\n",
       "      <td>0.458514</td>\n",
       "      <td>0.041426</td>\n",
       "      <td>...</td>\n",
       "      <td>2</td>\n",
       "      <td>0.343547</td>\n",
       "      <td>0.276366</td>\n",
       "      <td>0.710924</td>\n",
       "      <td>1</td>\n",
       "      <td>0</td>\n",
       "      <td>0</td>\n",
       "      <td>0</td>\n",
       "      <td>0</td>\n",
       "      <td>1</td>\n",
       "    </tr>\n",
       "    <tr>\n",
       "      <th>2</th>\n",
       "      <td>0.110545</td>\n",
       "      <td>0.273567</td>\n",
       "      <td>0.084410</td>\n",
       "      <td>-65.235325</td>\n",
       "      <td>2.794964</td>\n",
       "      <td>0.639047</td>\n",
       "      <td>1.281297</td>\n",
       "      <td>0.757896</td>\n",
       "      <td>0.489412</td>\n",
       "      <td>0.627636</td>\n",
       "      <td>...</td>\n",
       "      <td>3</td>\n",
       "      <td>0.188693</td>\n",
       "      <td>0.045941</td>\n",
       "      <td>0.457372</td>\n",
       "      <td>0</td>\n",
       "      <td>1</td>\n",
       "      <td>0</td>\n",
       "      <td>0</td>\n",
       "      <td>0</td>\n",
       "      <td>1</td>\n",
       "    </tr>\n",
       "    <tr>\n",
       "      <th>3</th>\n",
       "      <td>0.042481</td>\n",
       "      <td>0.199281</td>\n",
       "      <td>0.093447</td>\n",
       "      <td>-80.305152</td>\n",
       "      <td>5.824409</td>\n",
       "      <td>0.648848</td>\n",
       "      <td>1.754870</td>\n",
       "      <td>1.495532</td>\n",
       "      <td>0.739909</td>\n",
       "      <td>0.809644</td>\n",
       "      <td>...</td>\n",
       "      <td>2</td>\n",
       "      <td>0.102839</td>\n",
       "      <td>0.241934</td>\n",
       "      <td>0.351009</td>\n",
       "      <td>0</td>\n",
       "      <td>0</td>\n",
       "      <td>1</td>\n",
       "      <td>0</td>\n",
       "      <td>0</td>\n",
       "      <td>0</td>\n",
       "    </tr>\n",
       "    <tr>\n",
       "      <th>4</th>\n",
       "      <td>0.074550</td>\n",
       "      <td>0.140880</td>\n",
       "      <td>0.079789</td>\n",
       "      <td>-93.697749</td>\n",
       "      <td>5.543229</td>\n",
       "      <td>1.064262</td>\n",
       "      <td>0.899152</td>\n",
       "      <td>0.890336</td>\n",
       "      <td>0.702328</td>\n",
       "      <td>0.490685</td>\n",
       "      <td>...</td>\n",
       "      <td>2</td>\n",
       "      <td>0.195196</td>\n",
       "      <td>0.310801</td>\n",
       "      <td>0.683817</td>\n",
       "      <td>0</td>\n",
       "      <td>0</td>\n",
       "      <td>0</td>\n",
       "      <td>1</td>\n",
       "      <td>0</td>\n",
       "      <td>0</td>\n",
       "    </tr>\n",
       "    <tr>\n",
       "      <th>...</th>\n",
       "      <td>...</td>\n",
       "      <td>...</td>\n",
       "      <td>...</td>\n",
       "      <td>...</td>\n",
       "      <td>...</td>\n",
       "      <td>...</td>\n",
       "      <td>...</td>\n",
       "      <td>...</td>\n",
       "      <td>...</td>\n",
       "      <td>...</td>\n",
       "      <td>...</td>\n",
       "      <td>...</td>\n",
       "      <td>...</td>\n",
       "      <td>...</td>\n",
       "      <td>...</td>\n",
       "      <td>...</td>\n",
       "      <td>...</td>\n",
       "      <td>...</td>\n",
       "      <td>...</td>\n",
       "      <td>...</td>\n",
       "      <td>...</td>\n",
       "    </tr>\n",
       "    <tr>\n",
       "      <th>588</th>\n",
       "      <td>0.027142</td>\n",
       "      <td>0.047551</td>\n",
       "      <td>0.072043</td>\n",
       "      <td>-79.881347</td>\n",
       "      <td>8.119313</td>\n",
       "      <td>1.927310</td>\n",
       "      <td>1.696017</td>\n",
       "      <td>0.397888</td>\n",
       "      <td>0.857559</td>\n",
       "      <td>0.302742</td>\n",
       "      <td>...</td>\n",
       "      <td>2</td>\n",
       "      <td>0.261742</td>\n",
       "      <td>0.002657</td>\n",
       "      <td>1.149211</td>\n",
       "      <td>0</td>\n",
       "      <td>0</td>\n",
       "      <td>1</td>\n",
       "      <td>1</td>\n",
       "      <td>1</td>\n",
       "      <td>0</td>\n",
       "    </tr>\n",
       "    <tr>\n",
       "      <th>589</th>\n",
       "      <td>0.094829</td>\n",
       "      <td>0.204498</td>\n",
       "      <td>0.082824</td>\n",
       "      <td>-61.364436</td>\n",
       "      <td>2.966229</td>\n",
       "      <td>0.627740</td>\n",
       "      <td>1.440352</td>\n",
       "      <td>0.856243</td>\n",
       "      <td>1.110282</td>\n",
       "      <td>0.394450</td>\n",
       "      <td>...</td>\n",
       "      <td>2</td>\n",
       "      <td>0.282122</td>\n",
       "      <td>0.052218</td>\n",
       "      <td>0.335371</td>\n",
       "      <td>1</td>\n",
       "      <td>0</td>\n",
       "      <td>0</td>\n",
       "      <td>0</td>\n",
       "      <td>1</td>\n",
       "      <td>1</td>\n",
       "    </tr>\n",
       "    <tr>\n",
       "      <th>590</th>\n",
       "      <td>0.035169</td>\n",
       "      <td>0.065403</td>\n",
       "      <td>0.075227</td>\n",
       "      <td>-81.750533</td>\n",
       "      <td>10.311701</td>\n",
       "      <td>0.092224</td>\n",
       "      <td>0.818851</td>\n",
       "      <td>1.569606</td>\n",
       "      <td>1.831909</td>\n",
       "      <td>0.057216</td>\n",
       "      <td>...</td>\n",
       "      <td>2</td>\n",
       "      <td>0.184313</td>\n",
       "      <td>0.247136</td>\n",
       "      <td>0.476993</td>\n",
       "      <td>0</td>\n",
       "      <td>0</td>\n",
       "      <td>1</td>\n",
       "      <td>1</td>\n",
       "      <td>1</td>\n",
       "      <td>0</td>\n",
       "    </tr>\n",
       "    <tr>\n",
       "      <th>591</th>\n",
       "      <td>0.054276</td>\n",
       "      <td>0.238158</td>\n",
       "      <td>0.095935</td>\n",
       "      <td>-71.009724</td>\n",
       "      <td>3.181340</td>\n",
       "      <td>1.547197</td>\n",
       "      <td>2.407780</td>\n",
       "      <td>0.618838</td>\n",
       "      <td>0.997950</td>\n",
       "      <td>0.825143</td>\n",
       "      <td>...</td>\n",
       "      <td>2</td>\n",
       "      <td>0.547126</td>\n",
       "      <td>0.183494</td>\n",
       "      <td>1.255820</td>\n",
       "      <td>0</td>\n",
       "      <td>1</td>\n",
       "      <td>1</td>\n",
       "      <td>0</td>\n",
       "      <td>0</td>\n",
       "      <td>0</td>\n",
       "    </tr>\n",
       "    <tr>\n",
       "      <th>592</th>\n",
       "      <td>0.073194</td>\n",
       "      <td>0.140733</td>\n",
       "      <td>0.080545</td>\n",
       "      <td>-74.517081</td>\n",
       "      <td>6.945590</td>\n",
       "      <td>-1.047953</td>\n",
       "      <td>1.952278</td>\n",
       "      <td>0.341936</td>\n",
       "      <td>0.770582</td>\n",
       "      <td>0.144989</td>\n",
       "      <td>...</td>\n",
       "      <td>2</td>\n",
       "      <td>0.087328</td>\n",
       "      <td>0.236815</td>\n",
       "      <td>0.451701</td>\n",
       "      <td>0</td>\n",
       "      <td>1</td>\n",
       "      <td>0</td>\n",
       "      <td>0</td>\n",
       "      <td>0</td>\n",
       "      <td>0</td>\n",
       "    </tr>\n",
       "  </tbody>\n",
       "</table>\n",
       "<p>593 rows × 78 columns</p>\n",
       "</div>"
      ],
      "text/plain": [
       "     Mean_Acc1298_Mean_Mem40_Centroid  Mean_Acc1298_Mean_Mem40_Rolloff  \\\n",
       "0                            0.034741                         0.089665   \n",
       "1                            0.081374                         0.272747   \n",
       "2                            0.110545                         0.273567   \n",
       "3                            0.042481                         0.199281   \n",
       "4                            0.074550                         0.140880   \n",
       "..                                ...                              ...   \n",
       "588                          0.027142                         0.047551   \n",
       "589                          0.094829                         0.204498   \n",
       "590                          0.035169                         0.065403   \n",
       "591                          0.054276                         0.238158   \n",
       "592                          0.073194                         0.140733   \n",
       "\n",
       "     Mean_Acc1298_Mean_Mem40_Flux  Mean_Acc1298_Mean_Mem40_MFCC_0  \\\n",
       "0                        0.091225                      -73.302422   \n",
       "1                        0.085733                      -62.584437   \n",
       "2                        0.084410                      -65.235325   \n",
       "3                        0.093447                      -80.305152   \n",
       "4                        0.079789                      -93.697749   \n",
       "..                            ...                             ...   \n",
       "588                      0.072043                      -79.881347   \n",
       "589                      0.082824                      -61.364436   \n",
       "590                      0.075227                      -81.750533   \n",
       "591                      0.095935                      -71.009724   \n",
       "592                      0.080545                      -74.517081   \n",
       "\n",
       "     Mean_Acc1298_Mean_Mem40_MFCC_1  Mean_Acc1298_Mean_Mem40_MFCC_2  \\\n",
       "0                          6.215179                        0.615074   \n",
       "1                          3.183163                       -0.218145   \n",
       "2                          2.794964                        0.639047   \n",
       "3                          5.824409                        0.648848   \n",
       "4                          5.543229                        1.064262   \n",
       "..                              ...                             ...   \n",
       "588                        8.119313                        1.927310   \n",
       "589                        2.966229                        0.627740   \n",
       "590                       10.311701                        0.092224   \n",
       "591                        3.181340                        1.547197   \n",
       "592                        6.945590                       -1.047953   \n",
       "\n",
       "     Mean_Acc1298_Mean_Mem40_MFCC_3  Mean_Acc1298_Mean_Mem40_MFCC_4  \\\n",
       "0                          2.037160                        0.804065   \n",
       "1                          0.163038                        0.620251   \n",
       "2                          1.281297                        0.757896   \n",
       "3                          1.754870                        1.495532   \n",
       "4                          0.899152                        0.890336   \n",
       "..                              ...                             ...   \n",
       "588                        1.696017                        0.397888   \n",
       "589                        1.440352                        0.856243   \n",
       "590                        0.818851                        1.569606   \n",
       "591                        2.407780                        0.618838   \n",
       "592                        1.952278                        0.341936   \n",
       "\n",
       "     Mean_Acc1298_Mean_Mem40_MFCC_5  Mean_Acc1298_Mean_Mem40_MFCC_6  ...  \\\n",
       "0                          1.301409                        0.558576  ...   \n",
       "1                          0.458514                        0.041426  ...   \n",
       "2                          0.489412                        0.627636  ...   \n",
       "3                          0.739909                        0.809644  ...   \n",
       "4                          0.702328                        0.490685  ...   \n",
       "..                              ...                             ...  ...   \n",
       "588                        0.857559                        0.302742  ...   \n",
       "589                        1.110282                        0.394450  ...   \n",
       "590                        1.831909                        0.057216  ...   \n",
       "591                        0.997950                        0.825143  ...   \n",
       "592                        0.770582                        0.144989  ...   \n",
       "\n",
       "     BH_HighLowRatio    BHSUM1    BHSUM2    BHSUM3  amazed-suprised  \\\n",
       "0                  2  0.245457  0.105065  0.405399                0   \n",
       "1                  2  0.343547  0.276366  0.710924                1   \n",
       "2                  3  0.188693  0.045941  0.457372                0   \n",
       "3                  2  0.102839  0.241934  0.351009                0   \n",
       "4                  2  0.195196  0.310801  0.683817                0   \n",
       "..               ...       ...       ...       ...              ...   \n",
       "588                2  0.261742  0.002657  1.149211                0   \n",
       "589                2  0.282122  0.052218  0.335371                1   \n",
       "590                2  0.184313  0.247136  0.476993                0   \n",
       "591                2  0.547126  0.183494  1.255820                0   \n",
       "592                2  0.087328  0.236815  0.451701                0   \n",
       "\n",
       "     happy-pleased  relaxing-calm  quiet-still  sad-lonely  angry-aggresive  \n",
       "0                1              1            0           0                0  \n",
       "1                0              0            0           0                1  \n",
       "2                1              0            0           0                1  \n",
       "3                0              1            0           0                0  \n",
       "4                0              0            1           0                0  \n",
       "..             ...            ...          ...         ...              ...  \n",
       "588              0              1            1           1                0  \n",
       "589              0              0            0           1                1  \n",
       "590              0              1            1           1                0  \n",
       "591              1              1            0           0                0  \n",
       "592              1              0            0           0                0  \n",
       "\n",
       "[593 rows x 78 columns]"
      ]
     },
     "execution_count": 2,
     "metadata": {},
     "output_type": "execute_result"
    }
   ],
   "source": [
    "emotions = pd.read_csv(\"D:/2021FALL/EC503/Project/coding part/emotions/csv_result-emotions.csv\")\n",
    "emotions = emotions.iloc[:, 1:]\n",
    "emotions"
   ]
  },
  {
   "cell_type": "code",
   "execution_count": 3,
   "id": "9f8e869f",
   "metadata": {},
   "outputs": [
    {
     "name": "stdout",
     "output_type": "stream",
     "text": [
      "(593, 72)\n",
      "(593, 6)\n"
     ]
    }
   ],
   "source": [
    "X = emotions.iloc[:, 0:-6]\n",
    "y = emotions.iloc[:, -6:]\n",
    "print(X.shape)\n",
    "print(y.shape)"
   ]
  },
  {
   "cell_type": "code",
   "execution_count": 4,
   "id": "28b2b337",
   "metadata": {},
   "outputs": [],
   "source": [
    "X_train, X_rem, y_train, y_rem = train_test_split(X, y, random_state=0, train_size = 0.8)\n",
    "X_valid, X_test, y_valid, y_test = train_test_split(X_rem,y_rem, test_size=0.5)"
   ]
  },
  {
   "cell_type": "code",
   "execution_count": 5,
   "id": "5f3bfad8",
   "metadata": {},
   "outputs": [],
   "source": [
    "# Custom accuracy score based on hamming loss implementation\n",
    "\n",
    "def get_accuracy_score(y_test,y_pred):\n",
    "    \n",
    "    if 'numpy' not in str(type(y_pred)):\n",
    "        y_pred = y_pred.to_numpy()\n",
    "        \n",
    "    if 'numpy' not in str(type(y_test)):\n",
    "        y_test = y_test.to_numpy()\n",
    "    \n",
    "    \n",
    "    assert(y_test.shape == y_pred.shape)\n",
    "    \n",
    "    if y_pred.shape[1] <= 5: #For a smaller number of labels, a ratio of half the labels being correct is good enough\n",
    "        ratio = 0.5\n",
    "    else:\n",
    "        ratio = 0.7 #For a number of labels, at least 70% of the predicted labels must be correct\n",
    "    \n",
    "    acc_rows = []\n",
    "    \n",
    "    for i in range(len(y_test)):\n",
    "        acc_rows.append(np.count_nonzero(y_test[i]==y_pred[i]))\n",
    "#         acc_rows.append(np.count_nonzero(y_test.iloc[i,:].values==y_pred.iloc[i,:].values)) #Count the number of matches\n",
    "        \n",
    "    acc_rows = [1 if x/y_pred.shape[1] >= ratio else 0 for x in acc_rows] #1 if ratio of match in a row is greater than ratio, else 0\n",
    "    return sum(acc_rows)/len(acc_rows) # Mean accuracy"
   ]
  },
  {
   "cell_type": "code",
   "execution_count": 6,
   "id": "0f0bc242",
   "metadata": {},
   "outputs": [],
   "source": [
    "k_range = list(range(31))"
   ]
  },
  {
   "cell_type": "code",
   "execution_count": 7,
   "id": "87ad66eb",
   "metadata": {},
   "outputs": [],
   "source": [
    "test_hamming_loss= []\n",
    "for k_num in k_range[1:]:\n",
    "    classifier = BinaryRelevance(\n",
    "        classifier = kNN(n_neighbors = k_num),\n",
    "        require_dense = [False, True]\n",
    "    )\n",
    "\n",
    "    # train\n",
    "    classifier.fit(X_train, y_train)\n",
    "\n",
    "    # predict\n",
    "    y_valid_res = classifier.predict(X_valid)\n",
    "#     display(hamming_loss(y_test, y_pred))\n",
    "    test_hamming_loss.append(hamming_loss(y_valid, y_valid_res))"
   ]
  },
  {
   "cell_type": "code",
   "execution_count": 8,
   "id": "71a55c63",
   "metadata": {},
   "outputs": [
    {
     "data": {
      "image/png": "[encoded data removed]",
      "text/plain": [
       "<Figure size 432x288 with 1 Axes>"
      ]
     },
     "metadata": {
      "needs_background": "light"
     },
     "output_type": "display_data"
    }
   ],
   "source": [
    "plt.plot(k_range[1:], test_hamming_loss, 'r', label = 'BR imported')\n",
    "plt.xlabel('The value of K')\n",
    "plt.ylabel('The value of hamming loss')\n",
    "plt.grid(True)\n",
    "plt.show()"
   ]
  },
  {
   "cell_type": "code",
   "execution_count": 9,
   "id": "476762fb",
   "metadata": {},
   "outputs": [
    {
     "name": "stdout",
     "output_type": "stream",
     "text": [
      "0.2457627118644068\n"
     ]
    }
   ],
   "source": [
    "min_hl = min(test_hamming_loss)\n",
    "test_hamming_loss.index(min_hl)\n",
    "print(test_hamming_loss[18])"
   ]
  },
  {
   "cell_type": "code",
   "execution_count": 10,
   "id": "f327616a",
   "metadata": {},
   "outputs": [
    {
     "data": {
      "text/plain": [
       "0.2388888888888889"
      ]
     },
     "execution_count": 10,
     "metadata": {},
     "output_type": "execute_result"
    }
   ],
   "source": [
    "classifier = BinaryRelevance(\n",
    "    classifier = kNN(n_neighbors = 18),\n",
    "    require_dense = [False, True]\n",
    ")\n",
    "\n",
    "# train\n",
    "classifier.fit(X_train, y_train)\n",
    "\n",
    "# predict\n",
    "y_pred = classifier.predict(X_test)\n",
    "#     display(hamming_loss(y_test, y_pred))\n",
    "test_hl = hamming_loss(y_test, y_pred)\n",
    "test_hl"
   ]
  },
  {
   "cell_type": "code",
   "execution_count": 11,
   "id": "7a0c0fff",
   "metadata": {},
   "outputs": [],
   "source": [
    "acc_score = []\n",
    "for k_num in k_range[1:]:\n",
    "    # initialize LabelPowerset multi-label classifier with a RandomForest\n",
    "    classifier = BinaryRelevance(\n",
    "        classifier = kNN(n_neighbors = k_num),\n",
    "        require_dense = [False, True]\n",
    "    )\n",
    "\n",
    "    # train\n",
    "    classifier.fit(X_train, y_train)\n",
    "\n",
    "    # predict\n",
    "    y_valid_res = classifier.predict(X_valid)\n",
    "    y_valid_res = pd.DataFrame.sparse.from_spmatrix(y_valid_res)\n",
    "#     display(hamming_loss(y_test, y_pred))\n",
    "    acc_score.append(get_accuracy_score(y_valid, y_valid_res))"
   ]
  },
  {
   "cell_type": "code",
   "execution_count": 12,
   "id": "4de468ad",
   "metadata": {},
   "outputs": [
    {
     "data": {
      "image/png": "[encoded data removed]",
      "text/plain": [
       "<Figure size 432x288 with 1 Axes>"
      ]
     },
     "metadata": {
      "needs_background": "light"
     },
     "output_type": "display_data"
    }
   ],
   "source": [
    "plt.plot(k_range[1:], acc_score, 'g', label = 'BR imported')\n",
    "plt.xlabel('The value of K')\n",
    "plt.ylabel('The value of accuracy score')\n",
    "plt.grid(True)\n",
    "# plt.savefig('D:/2021FALL/EC503/Project/coding part/BRhamming_loss_emotion.png')\n",
    "plt.show()"
   ]
  },
  {
   "cell_type": "code",
   "execution_count": 15,
   "id": "8db0b63c",
   "metadata": {},
   "outputs": [
    {
     "name": "stdout",
     "output_type": "stream",
     "text": [
      "1\n",
      "0.559322033898305\n"
     ]
    }
   ],
   "source": [
    "max_acc = max(acc_score)\n",
    "print(acc_score.index(max_acc))\n",
    "print(acc_score[15])"
   ]
  },
  {
   "cell_type": "code",
   "execution_count": 16,
   "id": "bf121012",
   "metadata": {},
   "outputs": [
    {
     "data": {
      "text/plain": [
       "0.5333333333333333"
      ]
     },
     "execution_count": 16,
     "metadata": {},
     "output_type": "execute_result"
    }
   ],
   "source": [
    "classifier = BinaryRelevance(\n",
    "    classifier = kNN(n_neighbors = 2),\n",
    "    require_dense = [False, True]\n",
    ")\n",
    "\n",
    "# train\n",
    "classifier.fit(X_train, y_train)\n",
    "\n",
    "# predict\n",
    "y_pred = classifier.predict(X_test)\n",
    "y_pred = pd.DataFrame.sparse.from_spmatrix(y_pred)\n",
    "#     display(hamming_loss(y_test, y_pred))\n",
    "test_acc = get_accuracy_score(y_test, y_pred)\n",
    "test_acc"
   ]
  },
  {
   "cell_type": "code",
   "execution_count": 11,
   "id": "d9edfb3b",
   "metadata": {},
   "outputs": [
    {
     "name": "stdout",
     "output_type": "stream",
     "text": [
      "--- 0.06802082061767578 seconds ---\n"
     ]
    }
   ],
   "source": [
    "start_time = time.time()\n",
    "classifier = BinaryRelevance(\n",
    "    classifier = kNN(n_neighbors = 13),\n",
    "    require_dense = [False, True]\n",
    ")\n",
    "\n",
    "# train\n",
    "classifier.fit(X_train, y_train)\n",
    "\n",
    "# predict\n",
    "y_pred = classifier.predict(X_test)\n",
    "print(\"--- %s seconds ---\" % (time.time() - start_time))"
   ]
  },
  {
   "cell_type": "code",
   "execution_count": null,
   "id": "3f423e1e",
   "metadata": {},
   "outputs": [],
   "source": [
    "#LP"
   ]
  },
  {
   "cell_type": "code",
   "execution_count": 17,
   "id": "9d586898",
   "metadata": {},
   "outputs": [
    {
     "data": {
      "image/png": "[encoded data removed]",
      "text/plain": [
       "<Figure size 432x288 with 1 Axes>"
      ]
     },
     "metadata": {
      "needs_background": "light"
     },
     "output_type": "display_data"
    }
   ],
   "source": [
    "LPtest_hamming_loss= []\n",
    "for k_num in k_range[1:]:\n",
    "    classifier = LabelPowerset(\n",
    "        classifier = kNN(n_neighbors = k_num),\n",
    "        require_dense = [False, True]\n",
    "    )\n",
    "\n",
    "    # train\n",
    "    classifier.fit(X_train, y_train)\n",
    "\n",
    "    # predict\n",
    "    y_valid_res = classifier.predict(X_valid)\n",
    "#     display(hamming_loss(y_test, y_pred))\n",
    "    LPtest_hamming_loss.append(hamming_loss(y_valid, y_valid_res))\n",
    "    \n",
    "    \n",
    "plt.plot(k_range[1:], LPtest_hamming_loss, 'r', label = 'LP imported')\n",
    "plt.xlabel('The value of K')\n",
    "plt.ylabel('The value of hamming loss')\n",
    "plt.grid(True)\n",
    "# plt.savefig('D:/2021FALL/EC503/Project/coding part/LPhamming_loss_emotion.png')\n",
    "plt.show()"
   ]
  },
  {
   "cell_type": "code",
   "execution_count": 19,
   "id": "d8d7683b",
   "metadata": {},
   "outputs": [
    {
     "name": "stdout",
     "output_type": "stream",
     "text": [
      "12\n",
      "0.2570621468926554\n"
     ]
    }
   ],
   "source": [
    "lp_min = min(LPtest_hamming_loss)\n",
    "print(LPtest_hamming_loss.index(lp_min))\n",
    "print(LPtest_hamming_loss[13])"
   ]
  },
  {
   "cell_type": "code",
   "execution_count": 20,
   "id": "fe5ee2ce",
   "metadata": {},
   "outputs": [
    {
     "data": {
      "text/plain": [
       "0.24722222222222223"
      ]
     },
     "execution_count": 20,
     "metadata": {},
     "output_type": "execute_result"
    }
   ],
   "source": [
    "classifier = BinaryRelevance(\n",
    "    classifier = kNN(n_neighbors = 13),\n",
    "    require_dense = [False, True]\n",
    ")\n",
    "\n",
    "# train\n",
    "classifier.fit(X_train, y_train)\n",
    "\n",
    "# predict\n",
    "y_pred = classifier.predict(X_test)\n",
    "#     display(hamming_loss(y_test, y_pred))\n",
    "LPtest_hl = hamming_loss(y_test, y_pred)\n",
    "LPtest_hl"
   ]
  },
  {
   "cell_type": "code",
   "execution_count": 21,
   "id": "28c3136d",
   "metadata": {},
   "outputs": [
    {
     "data": {
      "image/png": "[encoded data removed]",
      "text/plain": [
       "<Figure size 432x288 with 1 Axes>"
      ]
     },
     "metadata": {
      "needs_background": "light"
     },
     "output_type": "display_data"
    }
   ],
   "source": [
    "LPacc_score = []\n",
    "for k_num in k_range[1:]:\n",
    "    # initialize LabelPowerset multi-label classifier with a RandomForest\n",
    "    classifier = LabelPowerset(\n",
    "        classifier = kNN(n_neighbors = k_num),\n",
    "        require_dense = [False, True]\n",
    "    )\n",
    "\n",
    "    # train\n",
    "    classifier.fit(X_train, y_train)\n",
    "\n",
    "    # predict\n",
    "    y_valid_res = classifier.predict(X_valid)\n",
    "    y_valid_res = pd.DataFrame.sparse.from_spmatrix(y_valid_res)\n",
    "#     display(hamming_loss(y_test, y_pred))\n",
    "    LPacc_score.append(get_accuracy_score(y_valid, y_valid_res))\n",
    "    \n",
    "plt.plot(k_range[1:], LPacc_score, 'g', label = 'LP imported')\n",
    "plt.xlabel('The value of K')\n",
    "plt.ylabel('The value of accuracy score')\n",
    "plt.grid(True)\n",
    "# plt.savefig('D:/2021FALL/EC503/Project/coding part/LPaccuracy_emotion.png')\n",
    "plt.show()"
   ]
  },
  {
   "cell_type": "code",
   "execution_count": 24,
   "id": "9698c3d0",
   "metadata": {},
   "outputs": [
    {
     "name": "stdout",
     "output_type": "stream",
     "text": [
      "12\n",
      "0.559322033898305\n"
     ]
    }
   ],
   "source": [
    "lp_max = max(LPacc_score)\n",
    "print(LPacc_score.index(lp_max))\n",
    "print(LPacc_score[13])"
   ]
  },
  {
   "cell_type": "code",
   "execution_count": 25,
   "id": "758e5236",
   "metadata": {},
   "outputs": [
    {
     "data": {
      "text/plain": [
       "0.5333333333333333"
      ]
     },
     "execution_count": 25,
     "metadata": {},
     "output_type": "execute_result"
    }
   ],
   "source": [
    "classifier = BinaryRelevance(\n",
    "    classifier = kNN(n_neighbors = 13),\n",
    "    require_dense = [False, True]\n",
    ")\n",
    "\n",
    "# train\n",
    "classifier.fit(X_train, y_train)\n",
    "\n",
    "# predict\n",
    "y_pred = classifier.predict(X_test)\n",
    "y_pred = pd.DataFrame.sparse.from_spmatrix(y_pred)\n",
    "\n",
    "LPtest_acc = get_accuracy_score(y_test, y_pred)\n",
    "LPtest_acc"
   ]
  },
  {
   "cell_type": "code",
   "execution_count": 6,
   "id": "1374237c",
   "metadata": {},
   "outputs": [
    {
     "name": "stdout",
     "output_type": "stream",
     "text": [
      "--- 0.02288222312927246 seconds ---\n"
     ]
    }
   ],
   "source": [
    "start_time = time.time()\n",
    "classifier = LabelPowerset(\n",
    "    classifier = kNN(n_neighbors = 13),\n",
    "    require_dense = [False, True]\n",
    ")\n",
    "\n",
    "# train\n",
    "classifier.fit(X_train, y_train)\n",
    "\n",
    "# predict\n",
    "y_pred = classifier.predict(X_test)\n",
    "print(\"--- %s seconds ---\" % (time.time() - start_time))"
   ]
  },
  {
   "cell_type": "code",
   "execution_count": 12,
   "id": "56ba011e",
   "metadata": {},
   "outputs": [
    {
     "data": {
      "image/png": "[encoded data removed]",
      "text/plain": [
       "<Figure size 432x288 with 1 Axes>"
      ]
     },
     "metadata": {
      "needs_background": "light"
     },
     "output_type": "display_data"
    }
   ],
   "source": [
    "test_f1 = []\n",
    "for k_num in k_range[1:]:\n",
    "    # initialize LabelPowerset multi-label classifier with a RandomForest\n",
    "    classifier = BinaryRelevance(\n",
    "        classifier = kNN(n_neighbors = k_num),\n",
    "        require_dense = [False, True]\n",
    "    )\n",
    "\n",
    "    # train\n",
    "    classifier.fit(X_train, y_train)\n",
    "\n",
    "    # predict\n",
    "    y_pred = classifier.predict(X_test)\n",
    "#     display(hamming_loss(y_test, y_pred))\n",
    "    test_f1.append(f1_score(y_test, y_pred, average = 'macro'))\n",
    "    \n",
    "    \n",
    "plt.plot(k_range[1:], test_f1, 'g', label = 'BR imported')\n",
    "plt.grid(True)\n",
    "plt.show()"
   ]
  },
  {
   "cell_type": "code",
   "execution_count": 23,
   "id": "f10f0254",
   "metadata": {},
   "outputs": [
    {
     "data": {
      "image/png": "[encoded data removed]",
      "text/plain": [
       "<Figure size 432x288 with 1 Axes>"
      ]
     },
     "metadata": {
      "needs_background": "light"
     },
     "output_type": "display_data"
    }
   ],
   "source": [
    "test_zeroone_loss_1 = []\n",
    "for k_num in k_range[1:]:\n",
    "    # initialize LabelPowerset multi-label classifier with a RandomForest\n",
    "    classifier = BinaryRelevance(\n",
    "        classifier = kNN(n_neighbors = k_num),\n",
    "        require_dense = [False, True]\n",
    "    )\n",
    "\n",
    "    # train\n",
    "    classifier.fit(X_train, y_train)\n",
    "\n",
    "    # predict\n",
    "    y_pred = classifier.predict(X_test)\n",
    "#     display(hamming_loss(y_test, y_pred))\n",
    "    test_zeroone_loss_1.append(zero_one_loss(y_test, y_pred))\n",
    "    \n",
    "\n",
    "plt.plot(k_range[1:], test_zeroone_loss_1, 'g', label = 'BR imported')\n",
    "plt.grid(True)\n",
    "plt.show()"
   ]
  }
 ],
 "metadata": {
  "kernelspec": {
   "display_name": "Python 3",
   "language": "python",
   "name": "python3"
  },
  "language_info": {
   "codemirror_mode": {
    "name": "ipython",
    "version": 3
   },
   "file_extension": ".py",
   "mimetype": "text/x-python",
   "name": "python",
   "nbconvert_exporter": "python",
   "pygments_lexer": "ipython3",
   "version": "3.8.8"
  }
 },
 "nbformat": 4,
 "nbformat_minor": 5
}
