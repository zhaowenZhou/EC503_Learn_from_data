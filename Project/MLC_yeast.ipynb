{
 "cells": [
  {
   "cell_type": "code",
   "execution_count": 26,
   "id": "a036af44",
   "metadata": {},
   "outputs": [],
   "source": [
    "import pandas as pd\n",
    "import numpy as np\n",
    "import random\n",
    "\n",
    "from sklearn.model_selection import train_test_split\n",
    "from sklearn import metrics\n",
    "from sklearn.metrics import hamming_loss, zero_one_loss, f1_score\n",
    "from skmultilearn.problem_transform import BinaryRelevance, LabelPowerset\n",
    "\n",
    "\n",
    "from sklearn.neighbors import KNeighborsClassifier as kNN\n",
    "\n",
    "import time\n",
    "\n",
    "import matplotlib \n",
    "import matplotlib.pyplot as plt"
   ]
  },
  {
   "cell_type": "code",
   "execution_count": 27,
   "id": "fe9b8fde",
   "metadata": {
    "scrolled": true
   },
   "outputs": [],
   "source": [
    "yeast = pd.read_csv(\"D:/2021FALL/EC503/Project/coding part/yeast.csv\")"
   ]
  },
  {
   "cell_type": "code",
   "execution_count": 28,
   "id": "fd0e4739",
   "metadata": {},
   "outputs": [],
   "source": [
    "X = yeast.iloc[:, 0: -14]\n",
    "y = yeast.iloc[:, -14:]"
   ]
  },
  {
   "cell_type": "code",
   "execution_count": 29,
   "id": "1acc3874",
   "metadata": {},
   "outputs": [],
   "source": [
    "X_train, X_rem, y_train, y_rem = train_test_split(X, y, random_state=0, train_size = 0.8)\n",
    "X_valid, X_test, y_valid, y_test = train_test_split(X_rem,y_rem, test_size=0.5)"
   ]
  },
  {
   "cell_type": "code",
   "execution_count": 30,
   "id": "a0265696",
   "metadata": {},
   "outputs": [],
   "source": [
    "# Custom accuracy score based on hamming loss implementation\n",
    "\n",
    "def get_accuracy_score(y_test,y_pred):\n",
    "    \n",
    "    if 'numpy' not in str(type(y_pred)):\n",
    "        y_pred = y_pred.to_numpy()\n",
    "        \n",
    "    if 'numpy' not in str(type(y_test)):\n",
    "        y_test = y_test.to_numpy()\n",
    "    \n",
    "    \n",
    "    assert(y_test.shape == y_pred.shape)\n",
    "    \n",
    "    if y_pred.shape[1] <= 5: #For a smaller number of labels, a ratio of half the labels being correct is good enough\n",
    "        ratio = 0.5\n",
    "    else:\n",
    "        ratio = 0.7 #For a number of labels, at least 70% of the predicted labels must be correct\n",
    "    \n",
    "    acc_rows = []\n",
    "    \n",
    "    for i in range(len(y_test)):\n",
    "        acc_rows.append(np.count_nonzero(y_test[i]==y_pred[i]))\n",
    "#         acc_rows.append(np.count_nonzero(y_test.iloc[i,:].values==y_pred.iloc[i,:].values)) #Count the number of matches\n",
    "        \n",
    "    acc_rows = [1 if x/y_pred.shape[1] >= ratio else 0 for x in acc_rows] #1 if ratio of match in a row is greater than ratio, else 0\n",
    "    return sum(acc_rows)/len(acc_rows) # Mean accuracy"
   ]
  },
  {
   "cell_type": "code",
   "execution_count": 31,
   "id": "cea4cd7d",
   "metadata": {},
   "outputs": [],
   "source": [
    "k_range = list(range(31))"
   ]
  },
  {
   "cell_type": "code",
   "execution_count": 32,
   "id": "da3ca547",
   "metadata": {},
   "outputs": [
    {
     "data": {
      "image/png": "[encoded data removed]",
      "text/plain": [
       "<Figure size 432x288 with 1 Axes>"
      ]
     },
     "metadata": {
      "needs_background": "light"
     },
     "output_type": "display_data"
    }
   ],
   "source": [
    "# try new method\n",
    "test_hamming_loss_1 = []\n",
    "for k_num in k_range[1:]:\n",
    "    classifier = BinaryRelevance(\n",
    "        classifier = kNN(n_neighbors = k_num),\n",
    "        require_dense = [False, True]\n",
    "    )\n",
    "    classifier.fit(X_train, y_train)\n",
    "\n",
    "    # train\n",
    "    y_valid_res = classifier.predict(X_valid)\n",
    "\n",
    "    test_hamming_loss_1.append(hamming_loss(y_valid, y_valid_res))\n",
    "    \n",
    "plt.plot(k_range[1:], test_hamming_loss_1, 'r', label = 'BR imported')\n",
    "plt.xlabel('The value of K')\n",
    "plt.ylabel('The value of hamming loss')\n",
    "plt.grid(True)\n",
    "plt.show()"
   ]
  },
  {
   "cell_type": "code",
   "execution_count": 35,
   "id": "193746ed",
   "metadata": {},
   "outputs": [
    {
     "name": "stdout",
     "output_type": "stream",
     "text": [
      "0.20336481700118064\n",
      "18\n"
     ]
    }
   ],
   "source": [
    "BR_min = min(test_hamming_loss_1)\n",
    "print(BR_min)\n",
    "print(test_hamming_loss_1.index(BR_min))"
   ]
  },
  {
   "cell_type": "code",
   "execution_count": 34,
   "id": "009bca78",
   "metadata": {},
   "outputs": [
    {
     "data": {
      "text/plain": [
       "0.19421487603305784"
      ]
     },
     "execution_count": 34,
     "metadata": {},
     "output_type": "execute_result"
    }
   ],
   "source": [
    "classifier = BinaryRelevance(\n",
    "    classifier = kNN(n_neighbors = 19),\n",
    "    require_dense = [False, True]\n",
    ")\n",
    "classifier.fit(X_train, y_train)\n",
    "\n",
    "# train\n",
    "y_pred = classifier.predict(X_test)\n",
    "\n",
    "hamming_loss(y_test, y_pred)"
   ]
  },
  {
   "cell_type": "code",
   "execution_count": 37,
   "id": "aee66435",
   "metadata": {},
   "outputs": [],
   "source": [
    "acc_score = []\n",
    "for k_num in k_range[1:]:\n",
    "    # initialize LabelPowerset multi-label classifier with a RandomForest\n",
    "    classifier = BinaryRelevance(\n",
    "        classifier = kNN(n_neighbors = k_num),\n",
    "        require_dense = [False, True]\n",
    "    )\n",
    "\n",
    "    # train\n",
    "    classifier.fit(X_train, y_train)\n",
    "\n",
    "    # predict\n",
    "    y_valid_res = classifier.predict(X_valid)\n",
    "    y_valid_res = pd.DataFrame.sparse.from_spmatrix(y_valid_res)\n",
    "#     display(hamming_loss(y_test, y_pred))\n",
    "    acc_score.append(get_accuracy_score(y_valid, y_valid_res))"
   ]
  },
  {
   "cell_type": "code",
   "execution_count": 40,
   "id": "cb89d22a",
   "metadata": {
    "scrolled": true
   },
   "outputs": [
    {
     "data": {
      "image/png": "[encoded data removed]",
      "text/plain": [
       "<Figure size 432x288 with 1 Axes>"
      ]
     },
     "metadata": {
      "needs_background": "light"
     },
     "output_type": "display_data"
    }
   ],
   "source": [
    "plt.plot(k_range[1:], acc_score, 'g', label = 'BR imported')\n",
    "plt.xlabel('The value of K')\n",
    "plt.ylabel('The value of hamming loss')\n",
    "plt.grid(True)\n",
    "# plt.savefig('D:/2021FALL/EC503/Project/coding part/BRhamming_loss_yeast.png')\n",
    "plt.show()"
   ]
  },
  {
   "cell_type": "code",
   "execution_count": 41,
   "id": "025bc5a3",
   "metadata": {},
   "outputs": [
    {
     "name": "stdout",
     "output_type": "stream",
     "text": [
      "0.8057851239669421\n",
      "28\n"
     ]
    }
   ],
   "source": [
    "BRmax = max(acc_score)\n",
    "print(BRmax)\n",
    "print(acc_score.index(BRmax))"
   ]
  },
  {
   "cell_type": "code",
   "execution_count": 42,
   "id": "69014276",
   "metadata": {},
   "outputs": [
    {
     "data": {
      "text/plain": [
       "0.8057851239669421"
      ]
     },
     "execution_count": 42,
     "metadata": {},
     "output_type": "execute_result"
    }
   ],
   "source": [
    "classifier = BinaryRelevance(\n",
    "    classifier = kNN(n_neighbors = 29),\n",
    "    require_dense = [False, True]\n",
    ")\n",
    "\n",
    "# train\n",
    "classifier.fit(X_train, y_train)\n",
    "\n",
    "# predict\n",
    "y_pred = classifier.predict(X_test)\n",
    "y_pred = pd.DataFrame.sparse.from_spmatrix(y_pred)\n",
    "#     display(hamming_loss(y_test, y_pred))\n",
    "get_accuracy_score(y_test, y_pred)"
   ]
  },
  {
   "cell_type": "code",
   "execution_count": 5,
   "id": "060e66f2",
   "metadata": {},
   "outputs": [
    {
     "name": "stdout",
     "output_type": "stream",
     "text": [
      "--- 2.334423542022705 seconds ---\n"
     ]
    }
   ],
   "source": [
    "start_time = time.time()\n",
    "classifier = BinaryRelevance(\n",
    "    classifier = kNN(n_neighbors = 13),\n",
    "    require_dense = [False, True]\n",
    ")\n",
    "\n",
    "# train\n",
    "classifier.fit(X_train, y_train)\n",
    "\n",
    "# predict\n",
    "y_pred = classifier.predict(X_test)\n",
    "print(\"--- %s seconds ---\" % (time.time() - start_time))"
   ]
  },
  {
   "cell_type": "code",
   "execution_count": 14,
   "id": "d92d87da",
   "metadata": {},
   "outputs": [],
   "source": [
    "# LP"
   ]
  },
  {
   "cell_type": "code",
   "execution_count": 43,
   "id": "2cb0f968",
   "metadata": {},
   "outputs": [],
   "source": [
    "LPtest_hamming_loss = []\n",
    "for k_num in k_range[1:]:\n",
    "    classifier = LabelPowerset(\n",
    "        classifier = kNN(n_neighbors = k_num),\n",
    "        require_dense = [False, True]\n",
    "    )\n",
    "\n",
    "    # train\n",
    "    classifier.fit(X_train, y_train)\n",
    "\n",
    "    # predict\n",
    "    y_valid_res = classifier.predict(X_valid)\n",
    "    \n",
    "    hamming_loss_value = hamming_loss(y_valid, y_valid_res)\n",
    "    LPtest_hamming_loss.append(hamming_loss_value)"
   ]
  },
  {
   "cell_type": "code",
   "execution_count": 44,
   "id": "06d73144",
   "metadata": {},
   "outputs": [],
   "source": [
    "LPacc_score = []\n",
    "for k_num in k_range[1:]:\n",
    "    # initialize LabelPowerset multi-label classifier with a RandomForest\n",
    "    classifier = LabelPowerset(\n",
    "        classifier = kNN(n_neighbors = k_num),\n",
    "        require_dense = [False, True]\n",
    "    )\n",
    "\n",
    "    # train\n",
    "    classifier.fit(X_train, y_train)\n",
    "\n",
    "    # predict\n",
    "    y_valid_res = classifier.predict(X_valid)\n",
    "    y_valid_res = pd.DataFrame.sparse.from_spmatrix(y_valid_res)\n",
    "    LPacc_score.append(get_accuracy_score(y_valid, y_valid_res))"
   ]
  },
  {
   "cell_type": "code",
   "execution_count": 45,
   "id": "33b7344b",
   "metadata": {},
   "outputs": [
    {
     "data": {
      "text/plain": [
       "Text(0, 0.5, 'hamming loss')"
      ]
     },
     "execution_count": 45,
     "metadata": {},
     "output_type": "execute_result"
    },
    {
     "data": {
      "image/png": "[encoded data removed]",
      "text/plain": [
       "<Figure size 432x288 with 1 Axes>"
      ]
     },
     "metadata": {
      "needs_background": "light"
     },
     "output_type": "display_data"
    }
   ],
   "source": [
    "plt.plot(k_range[1:],LPtest_hamming_loss, 'r')\n",
    "plt.grid(True)\n",
    "plt.xlabel('Value of K for KNN')\n",
    "plt.ylabel('hamming loss')\n",
    "# plt.savefig('D:/2021FALL/EC503/Project/coding part/LPhamming_loss_yeast.png')"
   ]
  },
  {
   "cell_type": "code",
   "execution_count": 47,
   "id": "86d4419d",
   "metadata": {},
   "outputs": [
    {
     "name": "stdout",
     "output_type": "stream",
     "text": [
      "0.22077922077922077\n",
      "18\n"
     ]
    }
   ],
   "source": [
    "LPmin = min(LPtest_hamming_loss)\n",
    "print(LPmin)\n",
    "print(LPtest_hamming_loss.index(LPmin))"
   ]
  },
  {
   "cell_type": "code",
   "execution_count": 48,
   "id": "eb7064bf",
   "metadata": {},
   "outputs": [
    {
     "data": {
      "text/plain": [
       "0.21074380165289255"
      ]
     },
     "execution_count": 48,
     "metadata": {},
     "output_type": "execute_result"
    }
   ],
   "source": [
    "classifier = LabelPowerset(\n",
    "    classifier = kNN(n_neighbors = 19),\n",
    "    require_dense = [False, True]\n",
    ")\n",
    "\n",
    "# train\n",
    "classifier.fit(X_train, y_train)\n",
    "\n",
    "# predict\n",
    "y_pred = classifier.predict(X_test)\n",
    "\n",
    "hamming_loss(y_test, y_pred)"
   ]
  },
  {
   "cell_type": "code",
   "execution_count": 46,
   "id": "4df78cb5",
   "metadata": {},
   "outputs": [
    {
     "data": {
      "image/png": "[encoded data removed]",
      "text/plain": [
       "<Figure size 432x288 with 1 Axes>"
      ]
     },
     "metadata": {
      "needs_background": "light"
     },
     "output_type": "display_data"
    }
   ],
   "source": [
    "plt.plot(k_range[1:], LPacc_score, 'g')\n",
    "plt.xlabel('The value of K')\n",
    "plt.ylabel('The value of accuracy score')\n",
    "plt.grid(True)\n",
    "# plt.savefig('D:/2021FALL/EC503/Project/coding part/LPaccuracy_yeast.png')\n",
    "plt.show()"
   ]
  },
  {
   "cell_type": "code",
   "execution_count": 50,
   "id": "8ae97978",
   "metadata": {},
   "outputs": [
    {
     "name": "stdout",
     "output_type": "stream",
     "text": [
      "0.7520661157024794\n",
      "18\n"
     ]
    }
   ],
   "source": [
    "LPmax = max(LPacc_score)\n",
    "print(LPmax)\n",
    "print(LPacc_score.index(LPmax))"
   ]
  },
  {
   "cell_type": "code",
   "execution_count": 52,
   "id": "0b4cd86f",
   "metadata": {},
   "outputs": [
    {
     "data": {
      "text/plain": [
       "0.7768595041322314"
      ]
     },
     "execution_count": 52,
     "metadata": {},
     "output_type": "execute_result"
    }
   ],
   "source": [
    "classifier = LabelPowerset(\n",
    "        classifier = kNN(n_neighbors = 19),\n",
    "        require_dense = [False, True]\n",
    "    )\n",
    "\n",
    "# train\n",
    "classifier.fit(X_train, y_train)\n",
    "\n",
    "# predict\n",
    "y_pred = classifier.predict(X_test)\n",
    "y_pred = pd.DataFrame.sparse.from_spmatrix(y_pred)\n",
    "get_accuracy_score(y_test, y_pred)"
   ]
  },
  {
   "cell_type": "code",
   "execution_count": null,
   "id": "827808e5",
   "metadata": {},
   "outputs": [],
   "source": [
    "# find the argminK"
   ]
  },
  {
   "cell_type": "code",
   "execution_count": 10,
   "id": "158e1cb5",
   "metadata": {},
   "outputs": [
    {
     "name": "stdout",
     "output_type": "stream",
     "text": [
      "--- 0.20412063598632812 seconds ---\n"
     ]
    }
   ],
   "source": [
    "start_time = time.time()\n",
    "classifier = LabelPowerset(\n",
    "    classifier = kNN(n_neighbors = 13),\n",
    "    require_dense = [False, True]\n",
    ")\n",
    "\n",
    "# train\n",
    "classifier.fit(X_train, y_train)\n",
    "\n",
    "# predict\n",
    "y_pred = classifier.predict(X_test)\n",
    "print(\"--- %s seconds ---\" % (time.time() - start_time))\n",
    "\n",
    "# result when the laptop is uncharged"
   ]
  },
  {
   "cell_type": "code",
   "execution_count": null,
   "id": "e1a2e05d",
   "metadata": {},
   "outputs": [],
   "source": [
    "# some unuseful metric"
   ]
  },
  {
   "cell_type": "code",
   "execution_count": 29,
   "id": "aaac20d6",
   "metadata": {},
   "outputs": [],
   "source": [
    "test_f1 = []\n",
    "for k_num in k_range[1:]:\n",
    "    # initialize LabelPowerset multi-label classifier with a RandomForest\n",
    "    classifier = BinaryRelevance(\n",
    "        classifier = kNN(n_neighbors = k_num),\n",
    "        require_dense = [False, True]\n",
    "    )\n",
    "\n",
    "    # train\n",
    "    classifier.fit(X_train, y_train)\n",
    "\n",
    "    # predict\n",
    "    y_pred = classifier.predict(X_test)\n",
    "#     display(hamming_loss(y_test, y_pred))\n",
    "    test_f1.append(f1_score(y_test, y_pred, average = 'macro'))"
   ]
  },
  {
   "cell_type": "code",
   "execution_count": 30,
   "id": "915d3fe8",
   "metadata": {},
   "outputs": [
    {
     "data": {
      "image/png": "[encoded data removed]",
      "text/plain": [
       "<Figure size 432x288 with 1 Axes>"
      ]
     },
     "metadata": {
      "needs_background": "light"
     },
     "output_type": "display_data"
    }
   ],
   "source": [
    "plt.plot(k_range_1[1:], test_f1, 'g', label = 'BR imported')\n",
    "plt.grid(True)\n",
    "plt.show()"
   ]
  },
  {
   "cell_type": "code",
   "execution_count": 15,
   "id": "d3ac0d33",
   "metadata": {},
   "outputs": [],
   "source": [
    "test_zeroone_loss_1 = []\n",
    "for k_num in k_range[1:]:\n",
    "    # initialize LabelPowerset multi-label classifier with a RandomForest\n",
    "    classifier = BinaryRelevance(\n",
    "        classifier = kNN(n_neighbors = k_num),\n",
    "        require_dense = [False, True]\n",
    "    )\n",
    "\n",
    "    # train\n",
    "    classifier.fit(X_train, y_train)\n",
    "\n",
    "    # predict\n",
    "    y_pred = classifier.predict(X_test)\n",
    "#     display(hamming_loss(y_test, y_pred))\n",
    "    test_zeroone_loss_1.append(zero_one_loss(y_test, y_pred))"
   ]
  },
  {
   "cell_type": "code",
   "execution_count": 16,
   "id": "5971139c",
   "metadata": {
    "scrolled": true
   },
   "outputs": [
    {
     "data": {
      "image/png": "[encoded data removed]",
      "text/plain": [
       "<Figure size 432x288 with 1 Axes>"
      ]
     },
     "metadata": {
      "needs_background": "light"
     },
     "output_type": "display_data"
    }
   ],
   "source": [
    "plt.plot(k_range_1[1:], test_zeroone_loss_1, 'g', label = 'BR imported')\n",
    "plt.grid(True)\n",
    "plt.show()"
   ]
  }
 ],
 "metadata": {
  "kernelspec": {
   "display_name": "Python 3",
   "language": "python",
   "name": "python3"
  },
  "language_info": {
   "codemirror_mode": {
    "name": "ipython",
    "version": 3
   },
   "file_extension": ".py",
   "mimetype": "text/x-python",
   "name": "python",
   "nbconvert_exporter": "python",
   "pygments_lexer": "ipython3",
   "version": "3.8.8"
  }
 },
 "nbformat": 4,
 "nbformat_minor": 5
}
